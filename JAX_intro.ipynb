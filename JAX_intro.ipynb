{
 "cells": [
  {
   "cell_type": "code",
   "execution_count": 2,
   "id": "seventh-baptist",
   "metadata": {},
   "outputs": [
    {
     "name": "stdout",
     "output_type": "stream",
     "text": [
      "[[0.56745022 0.4247945  0.32374621 ... 0.72424614 0.31471484 0.75709393]\n",
      " [0.76504917 0.41393967 0.1195595  ... 0.27311255 0.36763284 0.39811399]\n",
      " [0.30034904 0.8224698  0.0160814  ... 0.75720634 0.72237672 0.09741124]\n",
      " ...\n",
      " [0.14822982 0.918704   0.22328525 ... 0.67143212 0.91682163 0.65214596]\n",
      " [0.25847224 0.7675988  0.64836721 ... 0.19096599 0.89869396 0.22051008]\n",
      " [0.23031364 0.60925244 0.72548038 ... 0.63396252 0.13415147 0.0674989 ]]\n"
     ]
    }
   ],
   "source": [
    "import numpy as np\n",
    "x = np.random.rand(2000,2000)\n",
    "print(x)\n"
   ]
  },
  {
   "cell_type": "code",
   "execution_count": 3,
   "id": "apparent-disposition",
   "metadata": {},
   "outputs": [
    {
     "data": {
      "text/plain": [
       "array([[1.13490044, 0.849589  , 0.64749241, ..., 1.44849228, 0.62942968,\n",
       "        1.51418785],\n",
       "       [1.53009834, 0.82787934, 0.239119  , ..., 0.54622511, 0.73526569,\n",
       "        0.79622798],\n",
       "       [0.60069808, 1.6449396 , 0.03216279, ..., 1.51441268, 1.44475343,\n",
       "        0.19482249],\n",
       "       ...,\n",
       "       [0.29645964, 1.83740799, 0.4465705 , ..., 1.34286423, 1.83364326,\n",
       "        1.30429192],\n",
       "       [0.51694448, 1.5351976 , 1.29673443, ..., 0.38193199, 1.79738792,\n",
       "        0.44102015],\n",
       "       [0.46062729, 1.21850487, 1.45096075, ..., 1.26792504, 0.26830294,\n",
       "        0.1349978 ]])"
      ]
     },
     "execution_count": 3,
     "metadata": {},
     "output_type": "execute_result"
    }
   ],
   "source": [
    "2 * x"
   ]
  },
  {
   "cell_type": "code",
   "execution_count": 4,
   "id": "liable-yeast",
   "metadata": {},
   "outputs": [
    {
     "data": {
      "text/plain": [
       "array([[0.53748363, 0.41213356, 0.31812038, ..., 0.66257099, 0.30954533,\n",
       "        0.68681211],\n",
       "       [0.69257247, 0.40221938, 0.11927486, ..., 0.26972993, 0.35940746,\n",
       "        0.38768052],\n",
       "       [0.29585364, 0.73282855, 0.0160807 , ..., 0.68689382, 0.66116964,\n",
       "        0.09725726],\n",
       "       ...,\n",
       "       [0.14768759, 0.79481581, 0.2214345 , ..., 0.62210787, 0.79367208,\n",
       "        0.60689338],\n",
       "       [0.25560384, 0.69440939, 0.60388576, ..., 0.18980742, 0.78251439,\n",
       "        0.21872738],\n",
       "       [0.2282829 , 0.57225456, 0.66349493, ..., 0.59234195, 0.13374945,\n",
       "        0.06744766]])"
      ]
     },
     "execution_count": 4,
     "metadata": {},
     "output_type": "execute_result"
    }
   ],
   "source": [
    "np.sin(x)"
   ]
  },
  {
   "cell_type": "code",
   "execution_count": 5,
   "id": "configured-newspaper",
   "metadata": {},
   "outputs": [
    {
     "data": {
      "text/plain": [
       "array([[ 0.05966959, -0.07397188, -0.18537367, ...,  0.21733322,\n",
       "        -0.18467283,  0.25997255],\n",
       "       [ 0.25726854, -0.08482671, -0.38956037, ..., -0.23380037,\n",
       "        -0.13175483, -0.09900739],\n",
       "       [-0.20743159,  0.32370341, -0.49303848, ...,  0.25029342,\n",
       "         0.22298905, -0.39971013],\n",
       "       ...,\n",
       "       [-0.35955081,  0.41993761, -0.28583463, ...,  0.1645192 ,\n",
       "         0.41743396,  0.15502459],\n",
       "       [-0.24930839,  0.26883241,  0.13924734, ..., -0.31594693,\n",
       "         0.39930629, -0.2766113 ],\n",
       "       [-0.27746699,  0.11048605,  0.2163605 , ...,  0.1270496 ,\n",
       "        -0.3652362 , -0.42962248]])"
      ]
     },
     "execution_count": 5,
     "metadata": {},
     "output_type": "execute_result"
    }
   ],
   "source": [
    "x - x.mean(0)"
   ]
  },
  {
   "cell_type": "code",
   "execution_count": 6,
   "id": "powerful-serial",
   "metadata": {},
   "outputs": [
    {
     "data": {
      "text/plain": [
       "array([[499.08919102, 490.98247709, 495.18751355, ..., 498.40635521,\n",
       "        494.50937914, 485.34695773],\n",
       "       [510.29685902, 499.95239357, 511.85978277, ..., 509.82817989,\n",
       "        495.05226925, 507.41925595],\n",
       "       [502.82328413, 501.8213885 , 506.67580735, ..., 508.35889233,\n",
       "        492.64972834, 493.06081799],\n",
       "       ...,\n",
       "       [502.20453325, 496.38140482, 508.98725444, ..., 505.05666502,\n",
       "        490.64576912, 491.95629717],\n",
       "       [515.66634283, 498.26014692, 516.70676734, ..., 508.06152946,\n",
       "        506.435225  , 500.36645682],\n",
       "       [509.67692906, 502.64662385, 509.47906271, ..., 509.0583251 ,\n",
       "        505.48856182, 493.5220343 ]])"
      ]
     },
     "execution_count": 6,
     "metadata": {},
     "output_type": "execute_result"
    }
   ],
   "source": [
    "np.dot(x,x)"
   ]
  },
  {
   "cell_type": "code",
   "execution_count": 7,
   "id": "opposed-schedule",
   "metadata": {},
   "outputs": [],
   "source": [
    "import jax.numpy as jnp"
   ]
  },
  {
   "cell_type": "code",
   "execution_count": 8,
   "id": "victorian-egypt",
   "metadata": {},
   "outputs": [],
   "source": [
    "y = jnp.array(x)"
   ]
  },
  {
   "cell_type": "code",
   "execution_count": 9,
   "id": "chemical-scenario",
   "metadata": {},
   "outputs": [
    {
     "data": {
      "text/plain": [
       "DeviceArray([[0.5674502 , 0.4247945 , 0.3237462 , ..., 0.72424614,\n",
       "              0.31471485, 0.7570939 ],\n",
       "             [0.76504916, 0.41393968, 0.1195595 , ..., 0.27311257,\n",
       "              0.36763284, 0.398114  ],\n",
       "             [0.30034903, 0.8224698 , 0.0160814 , ..., 0.7572063 ,\n",
       "              0.7223767 , 0.09741125],\n",
       "             ...,\n",
       "             [0.14822982, 0.918704  , 0.22328524, ..., 0.67143214,\n",
       "              0.9168216 , 0.652146  ],\n",
       "             [0.25847223, 0.7675988 , 0.6483672 , ..., 0.190966  ,\n",
       "              0.898694  , 0.22051008],\n",
       "             [0.23031364, 0.60925245, 0.7254804 , ..., 0.6339625 ,\n",
       "              0.13415147, 0.0674989 ]], dtype=float32)"
      ]
     },
     "execution_count": 9,
     "metadata": {},
     "output_type": "execute_result"
    }
   ],
   "source": [
    "y"
   ]
  },
  {
   "cell_type": "code",
   "execution_count": 10,
   "id": "fixed-tutorial",
   "metadata": {},
   "outputs": [
    {
     "data": {
      "text/plain": [
       "DeviceArray([[1.1349005 , 0.849589  , 0.6474924 , ..., 1.4484923 ,\n",
       "              0.6294297 , 1.5141878 ],\n",
       "             [1.5300983 , 0.82787937, 0.23911901, ..., 0.54622513,\n",
       "              0.7352657 , 0.796228  ],\n",
       "             [0.60069805, 1.6449395 , 0.03216279, ..., 1.5144126 ,\n",
       "              1.4447534 , 0.19482249],\n",
       "             ...,\n",
       "             [0.29645965, 1.837408  , 0.4465705 , ..., 1.3428643 ,\n",
       "              1.8336432 , 1.304292  ],\n",
       "             [0.51694447, 1.5351976 , 1.2967345 , ..., 0.381932  ,\n",
       "              1.797388  , 0.44102016],\n",
       "             [0.4606273 , 1.2185049 , 1.4509608 , ..., 1.267925  ,\n",
       "              0.26830295, 0.1349978 ]], dtype=float32)"
      ]
     },
     "execution_count": 10,
     "metadata": {},
     "output_type": "execute_result"
    }
   ],
   "source": [
    "2 * y"
   ]
  },
  {
   "cell_type": "code",
   "execution_count": 11,
   "id": "forced-batman",
   "metadata": {},
   "outputs": [
    {
     "data": {
      "text/plain": [
       "DeviceArray([[0.53748363, 0.41213354, 0.31812036, ..., 0.662571  ,\n",
       "              0.30954534, 0.6868121 ],\n",
       "             [0.6925725 , 0.40221938, 0.11927487, ..., 0.26972994,\n",
       "              0.35940745, 0.38768053],\n",
       "             [0.2958536 , 0.73282856, 0.0160807 , ..., 0.6868938 ,\n",
       "              0.66116965, 0.09725726],\n",
       "             ...,\n",
       "             [0.1476876 , 0.79481584, 0.2214345 , ..., 0.6221079 ,\n",
       "              0.7936721 , 0.6068934 ],\n",
       "             [0.25560382, 0.69440943, 0.60388577, ..., 0.18980742,\n",
       "              0.78251445, 0.21872738],\n",
       "             [0.2282829 , 0.5722546 , 0.66349494, ..., 0.59234196,\n",
       "              0.13374946, 0.06744765]], dtype=float32)"
      ]
     },
     "execution_count": 11,
     "metadata": {},
     "output_type": "execute_result"
    }
   ],
   "source": [
    "jnp.sin(y)"
   ]
  },
  {
   "cell_type": "code",
   "execution_count": 12,
   "id": "framed-argument",
   "metadata": {},
   "outputs": [
    {
     "data": {
      "text/plain": [
       "DeviceArray([[ 0.05966955, -0.0739719 , -0.18537366, ...,  0.2173332 ,\n",
       "              -0.18467283,  0.2599725 ],\n",
       "             [ 0.2572685 , -0.08482671, -0.38956037, ..., -0.23380038,\n",
       "              -0.13175485, -0.0990074 ],\n",
       "             [-0.20743164,  0.32370338, -0.49303848, ...,  0.25029337,\n",
       "               0.22298902, -0.39971015],\n",
       "             ...,\n",
       "             [-0.35955083,  0.41993758, -0.2858346 , ...,  0.16451919,\n",
       "               0.41743392,  0.15502459],\n",
       "             [-0.24930844,  0.26883242,  0.13924736, ..., -0.31594694,\n",
       "               0.3993063 , -0.27661133],\n",
       "             [-0.277467  ,  0.11048606,  0.21636051, ...,  0.12704957,\n",
       "              -0.36523622, -0.4296225 ]], dtype=float32)"
      ]
     },
     "execution_count": 12,
     "metadata": {},
     "output_type": "execute_result"
    }
   ],
   "source": [
    "y - y.mean(0)"
   ]
  },
  {
   "cell_type": "code",
   "execution_count": 13,
   "id": "musical-shift",
   "metadata": {},
   "outputs": [
    {
     "data": {
      "text/plain": [
       "DeviceArray([[499.08923, 490.98248, 495.18756, ..., 498.4064 , 494.50937,\n",
       "              485.347  ],\n",
       "             [510.2968 , 499.95236, 511.85983, ..., 509.8281 , 495.0523 ,\n",
       "              507.4191 ],\n",
       "             [502.82324, 501.82147, 506.67572, ..., 508.35886, 492.64972,\n",
       "              493.06076],\n",
       "             ...,\n",
       "             [502.20465, 496.3814 , 508.9873 , ..., 505.0567 , 490.6458 ,\n",
       "              491.95618],\n",
       "             [515.66626, 498.2601 , 516.70667, ..., 508.06168, 506.43524,\n",
       "              500.3665 ],\n",
       "             [509.67685, 502.64664, 509.47913, ..., 509.0583 , 505.48856,\n",
       "              493.52206]], dtype=float32)"
      ]
     },
     "execution_count": 13,
     "metadata": {},
     "output_type": "execute_result"
    }
   ],
   "source": [
    "jnp.dot(y,y)"
   ]
  },
  {
   "cell_type": "code",
   "execution_count": 14,
   "id": "prostate-convention",
   "metadata": {},
   "outputs": [
    {
     "name": "stdout",
     "output_type": "stream",
     "text": [
      "47.2 ms ± 5.78 ms per loop (mean ± std. dev. of 7 runs, 10 loops each)\n",
      "2.16 ms ± 21.1 µs per loop (mean ± std. dev. of 7 runs, 100 loops each)\n"
     ]
    }
   ],
   "source": [
    "%timeit np.dot(x,x)\n",
    "%timeit jnp.dot(y,y)"
   ]
  },
  {
   "cell_type": "code",
   "execution_count": 15,
   "id": "studied-vessel",
   "metadata": {},
   "outputs": [],
   "source": [
    "def f(x):\n",
    "    for i in range(10):\n",
    "        x -= 0.1 * x\n",
    "    return x"
   ]
  },
  {
   "cell_type": "code",
   "execution_count": 16,
   "id": "genetic-reputation",
   "metadata": {},
   "outputs": [
    {
     "data": {
      "text/plain": [
       "array([[0.19785766, 0.14811668, 0.11288332, ..., 0.25252901, 0.10973428,\n",
       "        0.26398233],\n",
       "       [0.26675615, 0.14433184, 0.04168782, ..., 0.09522846, 0.12818565,\n",
       "        0.13881376],\n",
       "       [0.10472524, 0.28677749, 0.00560724, ..., 0.26402153, 0.25187719,\n",
       "        0.0339652 ],\n",
       "       ...,\n",
       "       [0.05168454, 0.32033228, 0.07785475, ..., 0.2341139 , 0.31967594,\n",
       "        0.22738924],\n",
       "       [0.0901237 , 0.26764515, 0.22607167, ..., 0.06658573, 0.31335521,\n",
       "        0.07688711],\n",
       "       [0.0803054 , 0.21243319, 0.25295937, ..., 0.22104906, 0.04677572,\n",
       "        0.02353541]])"
      ]
     },
     "execution_count": 16,
     "metadata": {},
     "output_type": "execute_result"
    }
   ],
   "source": [
    "f(x)"
   ]
  },
  {
   "cell_type": "code",
   "execution_count": 17,
   "id": "recovered-injury",
   "metadata": {},
   "outputs": [
    {
     "data": {
      "text/plain": [
       "DeviceArray([[0.19785768, 0.1481167 , 0.11288333, ..., 0.25252903,\n",
       "              0.10973427, 0.26398236],\n",
       "             [0.26675615, 0.14433186, 0.04168782, ..., 0.09522847,\n",
       "              0.12818564, 0.13881375],\n",
       "             [0.10472523, 0.2867775 , 0.00560724, ..., 0.26402152,\n",
       "              0.2518772 , 0.0339652 ],\n",
       "             ...,\n",
       "             [0.05168454, 0.32033232, 0.07785475, ..., 0.23411393,\n",
       "              0.31967595, 0.22738926],\n",
       "             [0.09012369, 0.26764515, 0.22607167, ..., 0.06658573,\n",
       "              0.31335524, 0.07688711],\n",
       "             [0.08030539, 0.21243319, 0.25295934, ..., 0.22104907,\n",
       "              0.04677573, 0.02353541]], dtype=float32)"
      ]
     },
     "execution_count": 17,
     "metadata": {},
     "output_type": "execute_result"
    }
   ],
   "source": [
    "f(y)"
   ]
  },
  {
   "cell_type": "code",
   "execution_count": 18,
   "id": "functioning-unknown",
   "metadata": {},
   "outputs": [
    {
     "name": "stdout",
     "output_type": "stream",
     "text": [
      "3.42 ms ± 31.4 µs per loop (mean ± std. dev. of 7 runs, 100 loops each)\n"
     ]
    }
   ],
   "source": [
    "%timeit f(y)"
   ]
  },
  {
   "cell_type": "code",
   "execution_count": 19,
   "id": "received-annotation",
   "metadata": {},
   "outputs": [],
   "source": [
    "from jax import jit\n",
    "g = jit(f)"
   ]
  },
  {
   "cell_type": "code",
   "execution_count": 20,
   "id": "dimensional-fetish",
   "metadata": {},
   "outputs": [
    {
     "name": "stdout",
     "output_type": "stream",
     "text": [
      "88.2 µs ± 560 ns per loop (mean ± std. dev. of 7 runs, 10000 loops each)\n"
     ]
    }
   ],
   "source": [
    "%timeit g(y)"
   ]
  },
  {
   "cell_type": "code",
   "execution_count": 21,
   "id": "unavailable-button",
   "metadata": {},
   "outputs": [],
   "source": [
    "def f(x):\n",
    "    return x * jnp.sin(x)"
   ]
  },
  {
   "cell_type": "code",
   "execution_count": 22,
   "id": "republican-destiny",
   "metadata": {},
   "outputs": [
    {
     "data": {
      "text/plain": [
       "DeviceArray(0.42336, dtype=float32)"
      ]
     },
     "execution_count": 22,
     "metadata": {},
     "output_type": "execute_result"
    }
   ],
   "source": [
    "f(3)"
   ]
  },
  {
   "cell_type": "code",
   "execution_count": 23,
   "id": "aware-chamber",
   "metadata": {},
   "outputs": [],
   "source": [
    "def grad_f(x):\n",
    "    return jnp.sin(x) + x * jnp.cos(x)"
   ]
  },
  {
   "cell_type": "code",
   "execution_count": 24,
   "id": "hungarian-honduras",
   "metadata": {},
   "outputs": [
    {
     "data": {
      "text/plain": [
       "DeviceArray(-2.8288574, dtype=float32)"
      ]
     },
     "execution_count": 24,
     "metadata": {},
     "output_type": "execute_result"
    }
   ],
   "source": [
    "grad_f(3)"
   ]
  },
  {
   "cell_type": "code",
   "execution_count": 25,
   "id": "dominant-enterprise",
   "metadata": {},
   "outputs": [],
   "source": [
    "from jax import grad"
   ]
  },
  {
   "cell_type": "code",
   "execution_count": 26,
   "id": "egyptian-safety",
   "metadata": {},
   "outputs": [
    {
     "data": {
      "text/plain": [
       "DeviceArray(-2.8288574, dtype=float32)"
      ]
     },
     "execution_count": 26,
     "metadata": {},
     "output_type": "execute_result"
    }
   ],
   "source": [
    "grad_f_jax = grad(f)\n",
    "grad_f_jax(3.0)"
   ]
  },
  {
   "cell_type": "code",
   "execution_count": 27,
   "id": "digital-blogger",
   "metadata": {},
   "outputs": [],
   "source": [
    "def square(x):\n",
    "    return jnp.sum(x ** 2)"
   ]
  },
  {
   "cell_type": "code",
   "execution_count": 28,
   "id": "biological-business",
   "metadata": {},
   "outputs": [
    {
     "data": {
      "text/plain": [
       "DeviceArray(328350, dtype=int32)"
      ]
     },
     "execution_count": 28,
     "metadata": {},
     "output_type": "execute_result"
    }
   ],
   "source": [
    "square(jnp.arange(100))"
   ]
  },
  {
   "cell_type": "code",
   "execution_count": 29,
   "id": "informational-miracle",
   "metadata": {},
   "outputs": [
    {
     "data": {
      "text/plain": [
       "[DeviceArray(285, dtype=int32),\n",
       " DeviceArray(2185, dtype=int32),\n",
       " DeviceArray(6085, dtype=int32),\n",
       " DeviceArray(11985, dtype=int32),\n",
       " DeviceArray(19885, dtype=int32),\n",
       " DeviceArray(29785, dtype=int32),\n",
       " DeviceArray(41685, dtype=int32),\n",
       " DeviceArray(55585, dtype=int32),\n",
       " DeviceArray(71485, dtype=int32),\n",
       " DeviceArray(89385, dtype=int32)]"
      ]
     },
     "execution_count": 29,
     "metadata": {},
     "output_type": "execute_result"
    }
   ],
   "source": [
    "x = jnp.arange(100).reshape(10,10)\n",
    "[square(row) for row in x]"
   ]
  },
  {
   "cell_type": "code",
   "execution_count": 30,
   "id": "christian-style",
   "metadata": {},
   "outputs": [
    {
     "data": {
      "text/plain": [
       "<function __main__.square(x)>"
      ]
     },
     "execution_count": 30,
     "metadata": {},
     "output_type": "execute_result"
    }
   ],
   "source": [
    "from jax import vmap\n",
    "vmap(square)"
   ]
  },
  {
   "cell_type": "code",
   "execution_count": 31,
   "id": "automated-failing",
   "metadata": {},
   "outputs": [
    {
     "data": {
      "text/plain": [
       "DeviceArray([  285,  2185,  6085, 11985, 19885, 29785, 41685, 55585,\n",
       "             71485, 89385], dtype=int32)"
      ]
     },
     "execution_count": 31,
     "metadata": {},
     "output_type": "execute_result"
    }
   ],
   "source": [
    "vmap(square)(x)"
   ]
  },
  {
   "cell_type": "code",
   "execution_count": null,
   "id": "young-diary",
   "metadata": {},
   "outputs": [],
   "source": []
  }
 ],
 "metadata": {
  "kernelspec": {
   "display_name": "Python [conda env:py37] *",
   "language": "python",
   "name": "conda-env-py37-py"
  },
  "language_info": {
   "codemirror_mode": {
    "name": "ipython",
    "version": 3
   },
   "file_extension": ".py",
   "mimetype": "text/x-python",
   "name": "python",
   "nbconvert_exporter": "python",
   "pygments_lexer": "ipython3",
   "version": "3.7.9"
  }
 },
 "nbformat": 4,
 "nbformat_minor": 5
}
